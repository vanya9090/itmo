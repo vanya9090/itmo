{
 "cells": [
  {
   "cell_type": "markdown",
   "id": "24042697-0f4a-4387-867b-6909514d46e4",
   "metadata": {},
   "source": [
    "**ИСУ: 409146**"
   ]
  },
  {
   "cell_type": "code",
   "execution_count": 1,
   "id": "8b85503e-0b85-4a68-9768-3cab8f67dc43",
   "metadata": {
    "tags": []
   },
   "outputs": [
    {
     "data": {
      "text/plain": [
       "10"
      ]
     },
     "execution_count": 1,
     "metadata": {},
     "output_type": "execute_result"
    }
   ],
   "source": [
    "46 % 36"
   ]
  },
  {
   "cell_type": "markdown",
   "id": "fdce15ed-2ccd-4c90-9fab-ffaf2d696ade",
   "metadata": {},
   "source": [
    "**YAML -> XML**"
   ]
  },
  {
   "cell_type": "markdown",
   "id": "576a321e-cce2-4206-8d5d-082a0ccc62a3",
   "metadata": {},
   "source": [
    "# Обязательное задание"
   ]
  },
  {
   "cell_type": "code",
   "execution_count": 22,
   "id": "31a30ff1-0adc-4099-bd2e-b764e881a761",
   "metadata": {
    "tags": []
   },
   "outputs": [],
   "source": [
    "class Parser:\n",
    "    def __init__(self, filename):\n",
    "        with open(filename, 'r') as f:\n",
    "            self.file = f.read()\n",
    "        self.final = ''\n",
    "    \n",
    "    def get_as_plain_text(self):\n",
    "        return self.file\n",
    "    \n",
    "    def render(self):\n",
    "        pass\n",
    "    \n",
    "    def write(self, filename):\n",
    "        with open(filename, 'w') as f:\n",
    "            f.write(self.final)"
   ]
  },
  {
   "cell_type": "code",
   "execution_count": 23,
   "id": "51ad4d64-a3f4-4a00-a645-0d92a3acfad9",
   "metadata": {
    "tags": []
   },
   "outputs": [],
   "source": [
    "class stupid_YAML_XML_Parser(Parser):\n",
    "    def __init__(self, filename):\n",
    "        super().__init__(filename)\n",
    "        self.tags = []\n",
    "        self.tag_tabs = []\n",
    "        self.final = '<?xml version=\"1.0\" encoding=\"UTF-8\" ?>\\n'\n",
    "    def render(self):\n",
    "        last_tabs = 0\n",
    "        for string in self.file.split('\\n'):\n",
    "            key, value = string.rstrip().split(':', 1)\n",
    "            tabs = key.count(' ') // 2\n",
    "            key = key.strip()\n",
    "            value = value.strip()\n",
    "            self.final += f'{\" \"*tabs}<{key}>{value}</{key}>\\n'"
   ]
  },
  {
   "cell_type": "code",
   "execution_count": 24,
   "id": "9cdf5173-31d4-4bad-9e14-ad5205b2baca",
   "metadata": {
    "tags": []
   },
   "outputs": [],
   "source": [
    "parser = stupid_YAML_XML_Parser('schedule.yaml')\n",
    "parser.render()\n",
    "parser.write('stupid_schedule.xml')"
   ]
  },
  {
   "cell_type": "markdown",
   "id": "541d9188-229b-4047-b4ad-69b994e80ebd",
   "metadata": {},
   "source": [
    "# Дополнительное задание 1"
   ]
  },
  {
   "cell_type": "code",
   "execution_count": 27,
   "id": "3a6b50f3-bd86-456d-ab04-e38a23eba1e0",
   "metadata": {
    "tags": []
   },
   "outputs": [],
   "source": [
    "import yaml\n",
    "from dict2xml import dict2xml"
   ]
  },
  {
   "cell_type": "code",
   "execution_count": 28,
   "id": "f74b9f1f-d6ad-4876-8503-d01a18589a87",
   "metadata": {
    "tags": []
   },
   "outputs": [],
   "source": [
    "with open('schedule.yaml', 'r') as f:\n",
    "    prime_service = yaml.safe_load(f)\n",
    "    \n",
    "xml = dict2xml(prime_service)\n",
    "\n",
    "with open('schedule.xml', 'w') as f:\n",
    "    f.write(xml)"
   ]
  },
  {
   "cell_type": "markdown",
   "id": "7e5d388a-db49-4a5b-b17f-80fed7f8b8fa",
   "metadata": {},
   "source": [
    "# Дополнительное задание 2"
   ]
  },
  {
   "cell_type": "code",
   "execution_count": 7,
   "id": "7a0c2216-4d07-4483-adb2-504a51c3c8cd",
   "metadata": {
    "tags": []
   },
   "outputs": [],
   "source": [
    "import re"
   ]
  },
  {
   "cell_type": "code",
   "execution_count": 49,
   "id": "407a0013-f668-48c0-bfa9-63c54d505bf7",
   "metadata": {
    "tags": []
   },
   "outputs": [],
   "source": [
    "class stupid_re_YAML_XML_Parser(Parser):\n",
    "    def __init__(self, filename):\n",
    "        super().__init__(filename)\n",
    "        self.tags = []\n",
    "        self.tag_tabs = []\n",
    "        self.final = '<?xml version=\"1.0\" encoding=\"UTF-8\" ?>\\n'\n",
    "    \n",
    "    def render(self):\n",
    "        last_tabs = 0\n",
    "        for string in re.split('\\n', self.file): # re\n",
    "            key, value = re.split(': |:$', string.rstrip()) # re\n",
    "            tabs = len(re.match(r'^\\s{0,20}', key)[0]) // 2 # re\n",
    "            key = key.strip()\n",
    "            value = value.strip()\n",
    "            self.final += f'{\" \"*tabs}<{key}>{value}</{key}>\\n'"
   ]
  },
  {
   "cell_type": "code",
   "execution_count": 50,
   "id": "03f7cd0a-9017-417e-b57c-af02a684e4c8",
   "metadata": {
    "tags": []
   },
   "outputs": [],
   "source": [
    "parser = stupid_re_YAML_XML_Parser('schedule.yaml')\n",
    "# print(parser.get_as_plain_text())\n",
    "parser.render()\n",
    "parser.write('schedule.xml')"
   ]
  },
  {
   "cell_type": "markdown",
   "id": "2daa7cab-eec0-44dd-8f1c-95f629538855",
   "metadata": {
    "jp-MarkdownHeadingCollapsed": true,
    "tags": []
   },
   "source": [
    "## Парсер"
   ]
  },
  {
   "cell_type": "code",
   "execution_count": 10,
   "id": "27ff1660-fe58-4f96-b393-738c9c458f4b",
   "metadata": {
    "tags": []
   },
   "outputs": [],
   "source": [
    "class re_YAML_XML_Parser(Parser):\n",
    "    def __init__(self, filename):\n",
    "        super().__init__(filename)\n",
    "        self.tags = []\n",
    "        self.tag_tabs = []\n",
    "        self.final = '<?xml version=\"1.0\" encoding=\"UTF-8\" ?>\\n'\n",
    "    \n",
    "    def __format_list(self, key, value, tabs):\n",
    "        string = ''\n",
    "        values = re.split(', ',value[1:-1]) # re\n",
    "        for value in values:\n",
    "            string += f'{\" \"*tabs}<{key}>{value}</{key}>\\n'\n",
    "        return string\n",
    "    \n",
    "    def __format_field(self, key, value, tabs):\n",
    "        if '[' in value and ']' in value:\n",
    "            return self.__format_list(key, value, tabs)\n",
    "        return f'{\" \"*tabs}<{key}>{value}</{key}>\\n'\n",
    "    \n",
    "    def __format_open(self, key, tabs):\n",
    "        self.tags += [key]\n",
    "        self.tag_tabs += [tabs]\n",
    "        return f'{\" \"*tabs}<{key}>\\n'\n",
    "    \n",
    "    def __format_close(self, tabs, last_tabs):\n",
    "        string = ''\n",
    "        while tabs < last_tabs:\n",
    "            last_tag = self.tags.pop()\n",
    "            last_tabs = self.tag_tabs.pop()\n",
    "            string += f'{\" \"*last_tabs}<\\{last_tag}>\\n'\n",
    "        return string\n",
    "    \n",
    "    def __format_string(self):\n",
    "        key, value = re.split(': |:$', string.rstrip()) # re\n",
    "    \n",
    "    def render(self):\n",
    "        last_tabs = 0\n",
    "        for string in re.split('\\n', self.file): # re\n",
    "            key, value = re.split(': |:$', string.rstrip()) # re\n",
    "            tabs = len(re.match(r'^\\s{0,20}', key)[0]) // 2 # re\n",
    "            key = key.strip()\n",
    "            value = value.strip()\n",
    "            \n",
    "            self.final += self.__format_close(tabs, last_tabs)\n",
    "            if value != '':\n",
    "                self.final += self.__format_field(key, value, tabs)\n",
    "            else:\n",
    "                self.final += self.__format_open(key, tabs)\n",
    "            last_tabs = tabs\n",
    "        \n",
    "        self.final += self.__format_close(0, last_tabs)"
   ]
  },
  {
   "cell_type": "code",
   "execution_count": 11,
   "id": "c6e06019-8f19-4e0f-9344-4c8e57d369e0",
   "metadata": {
    "tags": []
   },
   "outputs": [],
   "source": [
    "parser = re_YAML_XML_Parser('schedule.yaml')\n",
    "# print(parser.get_as_plain_text())\n",
    "parser.render()\n",
    "parser.write('schedule.xml')"
   ]
  },
  {
   "cell_type": "markdown",
   "id": "0661b37d-aa71-49ef-a231-efcdfaa84e2d",
   "metadata": {},
   "source": [
    "**программы работают идентично**"
   ]
  },
  {
   "cell_type": "markdown",
   "id": "46a98d30-7fa7-4a95-8c63-39a5800b9730",
   "metadata": {},
   "source": [
    "# Дополнительное задание 3"
   ]
  },
  {
   "cell_type": "code",
   "execution_count": 51,
   "id": "36b88768-b4e6-41f8-9815-1ac6286f2a06",
   "metadata": {
    "tags": []
   },
   "outputs": [],
   "source": [
    "class YAML_XML_Parser(Parser):\n",
    "    def __init__(self, filename):\n",
    "        super().__init__(filename)\n",
    "        self.tags = []\n",
    "        self.tag_tabs = []\n",
    "        self.final = '<?xml version=\"1.0\" encoding=\"UTF-8\" ?>\\n'\n",
    "    \n",
    "    def __format_list(self, key, value, tabs):\n",
    "        string = ''\n",
    "        values = value[1:-1].split(', ')\n",
    "        for value in values:\n",
    "            string += f'{\" \"*tabs}<{key}>{value}</{key}>\\n'\n",
    "        return string\n",
    "    \n",
    "    def __format_field(self, key, value, tabs):\n",
    "        if '[' in value and ']' in value:\n",
    "            return self.__format_list(key, value, tabs)\n",
    "        return f'{\" \"*tabs}<{key}>{value}</{key}>\\n'\n",
    "    \n",
    "    def __format_open(self, key, tabs):\n",
    "        self.tags += [key]\n",
    "        self.tag_tabs += [tabs]\n",
    "        return f'{\" \"*tabs}<{key}>\\n'\n",
    "    \n",
    "    def __format_close(self, tabs, last_tabs):\n",
    "        string = ''\n",
    "        while tabs < last_tabs:\n",
    "            last_tag = self.tags.pop()\n",
    "            last_tabs = self.tag_tabs.pop()\n",
    "            string += f'{\" \"*last_tabs}</{last_tag}>\\n'\n",
    "        return string\n",
    "    \n",
    "    def __format_el(self, tabs, key, value):\n",
    "        return f'{\" \"*tabs}<{key}>{value}</{key}>\\n'\n",
    "    \n",
    "    def __format_string(self):\n",
    "        key, value = string.rstrip().split(':', 1)\n",
    "    \n",
    "    def render(self):\n",
    "        last_tabs = 0\n",
    "        for string in self.file.split('\\n'):\n",
    "            if ':' not in string:\n",
    "                tabs = string.rstrip().count(' ') // 2\n",
    "                value = string.strip()[2:]\n",
    "                self.final += self.__format_el(tabs, key, value)\n",
    "            else:\n",
    "                key, value = string.rstrip().split(':', 1)\n",
    "                tabs = key.count(' ') // 2\n",
    "                key = key.strip()\n",
    "                value = value.strip()\n",
    "\n",
    "                self.final += self.__format_close(tabs, last_tabs)\n",
    "                if value != '':\n",
    "                    self.final += self.__format_field(key, value, tabs)\n",
    "                else:\n",
    "                    self.final += self.__format_open(key, tabs)\n",
    "                last_tabs = tabs\n",
    "        \n",
    "        self.final += self.__format_close(0, last_tabs)"
   ]
  },
  {
   "cell_type": "code",
   "execution_count": 52,
   "id": "b52ae3bc-f286-4305-84aa-0685a658e452",
   "metadata": {
    "tags": []
   },
   "outputs": [],
   "source": [
    "parser = YAML_XML_Parser('schedule.yaml')\n",
    "parser.render()\n",
    "parser.write('schedule.xml')"
   ]
  },
  {
   "cell_type": "markdown",
   "id": "e3408049-f648-4811-a93e-cda9f3353761",
   "metadata": {},
   "source": [
    "# Дополнительное задание 4"
   ]
  },
  {
   "cell_type": "code",
   "execution_count": 53,
   "id": "ca4881db-8e91-458d-aa66-54baaf829ab0",
   "metadata": {},
   "outputs": [],
   "source": [
    "import time"
   ]
  },
  {
   "cell_type": "code",
   "execution_count": 54,
   "id": "6fe71a7f-8138-4934-a85f-7f2d5473fb8a",
   "metadata": {},
   "outputs": [],
   "source": [
    "def stupid_re_parser():\n",
    "    parser = stupid_re_YAML_XML_Parser('schedule.yaml')\n",
    "    parser.render()\n",
    "    parser.write('schedule.xml')\n",
    "def base_parser():\n",
    "    parser = YAML_XML_Parser('schedule.yaml')\n",
    "    parser.render()\n",
    "    parser.write('schedule.xml')\n",
    "def stupid_parser():\n",
    "    parser = stupid_YAML_XML_Parser('schedule.yaml')\n",
    "    parser.render()\n",
    "    parser.write('schedule.xml')\n",
    "def bib_parser():\n",
    "    with open('schedule.yaml', 'r') as f:\n",
    "        prime_service = yaml.safe_load(f)\n",
    "    xml = dict2xml(prime_service)\n",
    "    with open('schedule.xml', 'w') as f:\n",
    "        f.write(xml)"
   ]
  },
  {
   "cell_type": "code",
   "execution_count": 55,
   "id": "b30d44bc-f020-43aa-9618-605d084a858b",
   "metadata": {
    "tags": []
   },
   "outputs": [
    {
     "name": "stdout",
     "output_type": "stream",
     "text": [
      "Простейший парсер:  0.14493\n"
     ]
    }
   ],
   "source": [
    "start_time = time.time()\n",
    "for i in range(1000):\n",
    "    stupid_parser()\n",
    "print('Простейший парсер: ', round(time.time() - start_time, 5))"
   ]
  },
  {
   "cell_type": "code",
   "execution_count": 56,
   "id": "68b53944-9778-4c51-991a-83549c9ea1e2",
   "metadata": {
    "tags": []
   },
   "outputs": [
    {
     "name": "stdout",
     "output_type": "stream",
     "text": [
      "Дополнительное задание 1(библиотеки):  4.24789\n"
     ]
    }
   ],
   "source": [
    "start_time = time.time()\n",
    "for i in range(1000):\n",
    "    bib_parser()\n",
    "print('Дополнительное задание 1(библиотеки): ', round(time.time() - start_time, 5))"
   ]
  },
  {
   "cell_type": "code",
   "execution_count": 57,
   "id": "e4357e02-49f5-4163-89eb-dd0f8d0da1d1",
   "metadata": {
    "tags": []
   },
   "outputs": [
    {
     "name": "stdout",
     "output_type": "stream",
     "text": [
      "Дополнительное задание 2(регулярные выражения):  0.16539\n"
     ]
    }
   ],
   "source": [
    "start_time = time.time()\n",
    "for i in range(1000):\n",
    "    stupid_re_parser()\n",
    "print('Дополнительное задание 2(регулярные выражения): ', round(time.time() - start_time, 5))"
   ]
  },
  {
   "cell_type": "code",
   "execution_count": 58,
   "id": "9c0824da-c390-4c1d-a160-9b3395284a75",
   "metadata": {
    "tags": []
   },
   "outputs": [
    {
     "name": "stdout",
     "output_type": "stream",
     "text": [
      "Дополнительное задание 3(настоящий парсер):  0.1994\n"
     ]
    }
   ],
   "source": [
    "start_time = time.time()\n",
    "for i in range(1000):\n",
    "    base_parser()\n",
    "print('Дополнительное задание 3(настоящий парсер): ', round(time.time() - start_time, 5))"
   ]
  },
  {
   "cell_type": "markdown",
   "id": "421f0c15-6f26-4501-83e3-5dae2cb65017",
   "metadata": {},
   "source": [
    "# Дополнительное задание 5 YAML -> MD"
   ]
  },
  {
   "cell_type": "code",
   "execution_count": 59,
   "id": "ff7bde1a-73ad-4af5-a021-9d7edc58a5c3",
   "metadata": {
    "tags": []
   },
   "outputs": [],
   "source": [
    "class YAML_MD_Parser(Parser):\n",
    "    def __init__(self, filename):\n",
    "        super().__init__(filename)\n",
    "        self.tags = []\n",
    "        self.tag_tabs = []\n",
    "        self.final = ''\n",
    "    \n",
    "    def __format_list(self, key, value, tabs):\n",
    "        string = f'{\"#\"*(tabs + 1)} {key}\\n'\n",
    "        values = value[1:-1].split(', ')\n",
    "        for value in values:\n",
    "            string += f'- {value}\\n'\n",
    "        return string\n",
    "    \n",
    "    def __format_field(self, key, value, tabs):\n",
    "        # if '[' in value and ']' in value:\n",
    "        #     return self.__format_list(key, value, tabs)\n",
    "        return f'\\t{key}: {value}\\n'\n",
    "    \n",
    "    def __format_open(self, key, tabs):\n",
    "        self.tags += [key]\n",
    "        self.tag_tabs += [tabs]\n",
    "        if key not in ['time', 'place', 'lecturer', 'datetime']:\n",
    "            return f'{\"#\"*(tabs + 1)} {key}\\n'\n",
    "        return ''\n",
    "\n",
    "    def __format_string(self):\n",
    "        key, value = string.rstrip().split(':', 1)\n",
    "    \n",
    "    def render(self):\n",
    "        last_tabs = 0\n",
    "        for string in self.file.split('\\n'):\n",
    "            key, value = string.rstrip().split(':', 1)\n",
    "            tabs = key.count(' ') // 4\n",
    "            key = key.strip()\n",
    "            value = value.strip()\n",
    "            \n",
    "            if value != '':\n",
    "                self.final += self.__format_field(key, value, tabs)\n",
    "            else:\n",
    "                self.final += self.__format_open(key, tabs)\n",
    "            last_tabs = tabs"
   ]
  },
  {
   "cell_type": "code",
   "execution_count": 60,
   "id": "911c7e87-daa8-46b5-b5e8-e2b85450f09d",
   "metadata": {
    "tags": []
   },
   "outputs": [],
   "source": [
    "parser = YAML_MD_Parser('schedule.yaml')\n",
    "# print(parser.get_as_plain_text())\n",
    "parser.render()\n",
    "parser.write('schedule.md')"
   ]
  },
  {
   "cell_type": "markdown",
   "id": "8dccd27a-a1ab-44a1-939d-ee5fbcd42d7d",
   "metadata": {},
   "source": [
    "# schedule\n",
    "## tuesday\n",
    "### first\n",
    "\tname: Иностранный язык\n",
    "\ttype: Практика\n",
    "\tweeks: [1, 2, 3, 4, 5, 6, 7, 8, 9]\n",
    "\tstart: \"8:20\"\n",
    "\tend: \"9:50\"\n",
    "\tvisit: Очно\n",
    "\taddress: ул.Ломоносова, д.9, лит. Е\n",
    "\taudience: Ауд. 3212\n",
    "\tsurname: Бревнова\n",
    "\tname: Татьяна\n",
    "\tlastname: Сергеевна\n",
    "### second\n",
    "\tname: Иностранный язык\n",
    "\ttype: Практика\n",
    "\tweeks: [1, 2, 3, 4, 5, 6, 7, 8, 9]\n",
    "\tstart: \"10:00\"\n",
    "\tend: \"11:30\"\n",
    "\tvisit: Очно\n",
    "\taddress: ул.Ломоносова, д.9, лит. Е\n",
    "\taudience: Ауд. 3212\n",
    "\tsurname: Бревнова\n",
    "\tname: Татьяна\n",
    "\tlastname: Сергеевна\n",
    "### third\n",
    "\tname: Основы дискретной математики\n",
    "\ttype: Лекция\n",
    "\tweeks: [1, 2, 3, 4, 5, 6, 7, 8, 9]\n",
    "\tstart: \"17:00\"\n",
    "\tend: \"18:30\"\n",
    "\tvisit: Очно\n",
    "\taddress: Кронверкский пр., д.49, лит.А\n",
    "\taudience: Ауд. Orange Classroom (1229)\n",
    "\tsurname: Карпов\n",
    "\tname: Дмитрий\n",
    "\tlastname: Валерьевич\n",
    "### fourth\n",
    "\tname: Основы дискретной математики\n",
    "\ttype: Практика\n",
    "\tweeks: [1, 2, 3, 4, 5, 6, 7, 8, 9]\n",
    "\tstart: \"18:40\"\n",
    "\tend: \"20:10\"\n",
    "\tvisit: Очно\n",
    "\taddress: Кронверкский пр., д.49, лит.А\n",
    "\taudience: Ауд. 2316\n",
    "\tsurname: Карпов\n",
    "\tname: Дмитрий\n",
    "\tlastname: Валерьевич\n",
    "## wednesday\n",
    "### first\n",
    "\tname: Программирование\n",
    "\ttype: Лекция\n",
    "\tweeks: [1, 3, 5, 7, 9]\n",
    "\tstart: \"10:00\"\n",
    "\tend: \"11:30\"\n",
    "\tvisit: Очно\n",
    "\taddress: ул.Ломоносова, д.9, лит. М\n",
    "\taudience: Ауд. Актовый зал (1216/0 (усл))\n",
    "\tsurname: Письмак\n",
    "\tname: Алексей\n",
    "\tlastname: Евгеньевич\n",
    "### second\n",
    "\tname: Основы профессиональной деятельности\n",
    "\ttype: Практика\n",
    "\tweeks: [1, 3, 5, 7, 9]\n",
    "\tstart: \"15:20\"\n",
    "\tend: \"16:50\"\n",
    "\tvisit: Очно\n",
    "\taddress: Кронверкский пр., д.49, лит.А\n",
    "\taudience: Ауд. 1327\n",
    "\tsurname: Остапенко\n",
    "\tname: О.\n",
    "\tlastname: Д.\n"
   ]
  },
  {
   "cell_type": "code",
   "execution_count": null,
   "id": "946021e8-df93-46df-b535-9f7e8f4ebb4b",
   "metadata": {},
   "outputs": [],
   "source": []
  }
 ],
 "metadata": {
  "kernelspec": {
   "display_name": "Python 3 (ipykernel)",
   "language": "python",
   "name": "python3"
  },
  "language_info": {
   "codemirror_mode": {
    "name": "ipython",
    "version": 3
   },
   "file_extension": ".py",
   "mimetype": "text/x-python",
   "name": "python",
   "nbconvert_exporter": "python",
   "pygments_lexer": "ipython3",
   "version": "3.11.5"
  }
 },
 "nbformat": 4,
 "nbformat_minor": 5
}
