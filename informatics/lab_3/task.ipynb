{
 "cells": [
  {
   "cell_type": "markdown",
   "id": "2dd0d08e",
   "metadata": {},
   "source": [
    "**ИСУ 409146**"
   ]
  },
  {
   "cell_type": "code",
   "execution_count": 17,
   "id": "80b03a3f",
   "metadata": {},
   "outputs": [],
   "source": [
    "import re"
   ]
  },
  {
   "cell_type": "code",
   "execution_count": 18,
   "id": "d045269c",
   "metadata": {},
   "outputs": [
    {
     "name": "stdout",
     "output_type": "stream",
     "text": [
      "0\n",
      "2\n",
      "3\n",
      "0\n",
      "1\n"
     ]
    }
   ],
   "source": [
    "print(409146 % 6)\n",
    "print(409146 % 4)\n",
    "print(409146 % 7)\n",
    "print(409146 % 6)\n",
    "print(409146 % 5)"
   ]
  },
  {
   "cell_type": "code",
   "execution_count": 22,
   "id": "a38988d2",
   "metadata": {},
   "outputs": [
    {
     "name": "stdout",
     "output_type": "stream",
     "text": [
      ":-{|:-{|:-{|:-{|:-{|:-{|---:-{|XXXXX-{0:-{| count: 8\n",
      "X--{O:-{|Х--{O:-{|:-{| count: 3\n",
      ":-{|X:-{|JKRS:-{| count: 3\n",
      "X_{O:-{|:-{|:-{|:-{| count: 4\n",
      "X-{o:-{|hr:-{| count: 2\n"
     ]
    }
   ],
   "source": [
    "smile = ':-{|'\n",
    "\n",
    "tests = [smile * 6 + '---' + smile + 'XXXX' + 'X-{0' + smile,\n",
    "         'X--{O' + smile + 'Х--{O' + smile * 2,\n",
    "         smile + 'X' + smile + 'JKRS' + smile,\n",
    "         'X_{O' + smile * 4,\n",
    "         'X-{o' + smile + 'hr' + smile]\n",
    "\n",
    "for test in tests:\n",
    "    print(test, 'count:', len(re.findall(':-{\\|', test)))"
   ]
  },
  {
   "cell_type": "code",
   "execution_count": 20,
   "id": "8d37791e",
   "metadata": {},
   "outputs": [
    {
     "name": "stdout",
     "output_type": "stream",
     "text": [
      "Вечер за окном. / Еще один день прожит. / Жизнь скоротечна... Ответ: Хайку!\n",
      "Просто текст Ответ: Не хайку!\n",
      "Как вишня расцвела! / Она с коня согнала / И князя-гордеца. Ответ: Не хайку!\n",
      "Жизнь скоротечна... / Думает ли об этом / Маленький мальчик. Ответ: Хайку!\n",
      "Тихо, тихо ползи, / Улитка, по склону Фудзи, / Вверх, до самых высот! Ответ: Не хайку!\n",
      "Всё глазел на них, / Сакуры цветы, пока / Шею не свело Ответ: Хайку!\n"
     ]
    }
   ],
   "source": [
    "def check_haiku(line):\n",
    "    consonants = 'йцкнгшщзхъждлрпвфчсмтьбЙЦКНГШЩЗХЪФВПРЛДЖЧСМТБ ,\\.-'\n",
    "    vowels = 'аеёиоуэюяыАЕЁИОУЭЮЯЫ ,\\.-'\n",
    "    pattern = fr'^(?:(?:[{consonants}]*[{vowels}][{consonants}]*){{5}}\\/' \\\n",
    "              fr'(?:[{consonants}]*[{vowels}][{consonants}]*){{7}}\\/' \\\n",
    "              fr'(?:[{consonants}]*[{vowels}][{consonants}]*){{5}})$'''\n",
    "    return bool(re.match(pattern, line))\n",
    "\n",
    "\n",
    "tests = [\n",
    "    'Вечер за окном. / Еще один день прожит. / Жизнь скоротечна...',\n",
    "    'Просто текст',\n",
    "    'Как вишня расцвела! / Она с коня согнала / И князя-гордеца.',\n",
    "    'Жизнь скоротечна... / Думает ли об этом / Маленький мальчик.',\n",
    "    'Тихо, тихо ползи, / Улитка, по склону Фудзи, / Вверх, до самых высот!',\n",
    "    'Всё глазел на них, / Сакуры цветы, пока / Шею не свело',\n",
    "]\n",
    "\n",
    "\n",
    "for test in tests:\n",
    "    print(test, 'Ответ:', 'Хайку!' if check_haiku(test) else 'Не хайку!')"
   ]
  },
  {
   "cell_type": "code",
   "execution_count": 26,
   "id": "2856053a",
   "metadata": {},
   "outputs": [
    {
     "name": "stdout",
     "output_type": "stream",
     "text": [
      "Классное слово – обороноспособность, которое должно идти после слов: трава и молоко.\n",
      "['и', 'идти', 'слов', 'слово', 'трава', 'должно', 'молоко', 'обороноспособность']\n",
      "\n",
      "После чего данные слова требуется отсортировать сначала по увеличению длины слова, а затем лексикографически.\n",
      "['а', 'по', 'сначала']\n",
      "\n",
      "С помощью регулярного выражения найти в тексте слова, в которых встречается строго одна гласная буква (встречаться она может несколько раз)\n",
      "['раз', 'тексте', 'строго']\n",
      "\n",
      "Для своей программы придумайте минимум 5 тестов. Все 5 тестов необходимо показать при защите.\n",
      "['Для', 'Все', 'при']\n",
      "\n",
      "Для определения варианта используйте свой табельный номер, которые можно найти в ИСУ.\n",
      "['Для', 'свой', 'можно']\n",
      "\n",
      "гидроэлектростанция\n",
      "[]\n",
      "\n",
      "молоко\n",
      "['молоко']\n",
      "\n"
     ]
    }
   ],
   "source": [
    "def find_vowels(line):\n",
    "    consonants = 'йцкнгшщзхъждлрпвфчсмтьбЙЦКНГШЩЗХЪФВПРЛДЖЧСМТБ'\n",
    "    vowels = 'аеёиоуэюяыАЕЁИОУЭЮЯЫ'\n",
    "    pattern = fr'''\\b([{consonants}]*([{vowels}])(\\2*[{consonants}]*)*)\\b'''\n",
    "    out = [i[0] for i in re.findall(pattern, test)]\n",
    "    out.sort(key=lambda l: len(l))\n",
    "    return out\n",
    "\n",
    "\n",
    "tests = [\n",
    "    'Классное слово – обороноспособность, которое должно идти после слов: трава и молоко.',\n",
    "    'После чего данные слова требуется отсортировать сначала по увеличению длины слова, а затем лексикографически.',\n",
    "    'С помощью регулярного выражения найти в тексте слова, в которых встречается строго одна гласная буква (встречаться она может несколько раз)',\n",
    "    'Для своей программы придумайте минимум 5 тестов. Все 5 тестов необходимо показать при защите.',\n",
    "    'Для определения варианта используйте свой табельный номер, которые можно найти в ИСУ.',\n",
    "    'гидроэлектростанция',\n",
    "    'молоко'\n",
    "]\n",
    "for test in tests:\n",
    "    print(test, find_vowels(test), sep='\\n')\n",
    "    print()"
   ]
  },
  {
   "cell_type": "code",
   "execution_count": null,
   "id": "bc58843b-fb86-47ea-9d7a-0edcbf5ce174",
   "metadata": {},
   "outputs": [],
   "source": []
  },
  {
   "cell_type": "code",
   "execution_count": null,
   "id": "97916b2d-3a88-4721-94fe-dc2768177bc7",
   "metadata": {},
   "outputs": [],
   "source": []
  },
  {
   "cell_type": "code",
   "execution_count": null,
   "id": "cdf59934-79c7-4c85-b242-c098db4a6f18",
   "metadata": {},
   "outputs": [],
   "source": []
  }
 ],
 "metadata": {
  "kernelspec": {
   "display_name": "Python 3 (ipykernel)",
   "language": "python",
   "name": "python3"
  },
  "language_info": {
   "codemirror_mode": {
    "name": "ipython",
    "version": 3
   },
   "file_extension": ".py",
   "mimetype": "text/x-python",
   "name": "python",
   "nbconvert_exporter": "python",
   "pygments_lexer": "ipython3",
   "version": "3.11.5"
  }
 },
 "nbformat": 4,
 "nbformat_minor": 5
}
